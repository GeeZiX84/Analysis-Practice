{
 "cells": [
  {
   "cell_type": "code",
   "execution_count": null,
   "id": "98091192",
   "metadata": {},
   "outputs": [],
   "source": [
    "import pandas as pd\n",
    "import requests\n",
    "df = pd.read_csv(\"dt.csv\")\n",
    "df"
   ]
  },
  {
   "cell_type": "code",
   "execution_count": 6,
   "id": "74b1c6fc",
   "metadata": {},
   "outputs": [],
   "source": [
    "def get_vacancy_details(vacancy_id):\n",
    "    url = f\"https://api.hh.ru/vacancies/{vacancy_id}\"\n",
    " # Указываем заголовки (User-Agent рекомендуется для API HH)\n",
    "    headers = {\n",
    "    'User-Agent': 'api-test-agent' 'https://api.hh.ru/vacancies'\n",
    "    }\n",
    " # Отправляем GET-запрос\n",
    "    response = requests.get(url, headers=headers)\n",
    " # Возвращаем JSON-данные\n",
    "    return response.json()\n",
    "# Пример использования\n",
    "vacancy_ids = df['ID']\n",
    "key_skills = []\n"
   ]
  },
  {
   "cell_type": "code",
   "execution_count": null,
   "id": "557ee9b2",
   "metadata": {},
   "outputs": [],
   "source": [
    "for i in range(2000):\n",
    "    vacancy_data = get_vacancy_details(vacancy_ids[i])\n",
    "    if vacancy_data:\n",
    "        key_skills.append(vacancy_data.get('key_skills'))\n",
    "key_skills"
   ]
  },
  {
   "cell_type": "code",
   "execution_count": null,
   "id": "72c47e99",
   "metadata": {},
   "outputs": [],
   "source": [
    "skills = []\n",
    "for i in range(len(key_skills)):\n",
    "    vac_skills = []\n",
    "    for j in range(len(key_skills[i])):\n",
    "        vac_skills.append(key_skills[i][j]['name'])\n",
    "    skills.append(vac_skills)\n"
   ]
  },
  {
   "cell_type": "code",
   "execution_count": null,
   "id": "ced411bd",
   "metadata": {},
   "outputs": [],
   "source": [
    "unique_skills = [item for subset in skills for item in subset]\n",
    "skills = pd.Series(unique_skills)"
   ]
  }
 ],
 "metadata": {
  "kernelspec": {
   "display_name": "moonshot",
   "language": "python",
   "name": "moonshot"
  },
  "language_info": {
   "codemirror_mode": {
    "name": "ipython",
    "version": 3
   },
   "file_extension": ".py",
   "mimetype": "text/x-python",
   "name": "python",
   "nbconvert_exporter": "python",
   "pygments_lexer": "ipython3",
   "version": "3.10.15"
  }
 },
 "nbformat": 4,
 "nbformat_minor": 5
}
