{
 "cells": [
  {
   "cell_type": "code",
   "execution_count": null,
   "id": "38187746",
   "metadata": {},
   "outputs": [],
   "source": [
    "import requests\n",
    "import numpy as np\n",
    "import pandas as pd\n",
    "df = pd.read_csv(\"dt.csv\")\n",
    "def get_vacancy_details(vacancy_id):\n",
    "\n",
    "    url = f\"https://api.hh.ru/vacancies/{vacancy_id}\"\n",
    "\n",
    "    headers = {\n",
    "        'User-Agent': 'api-test-agent' 'https://api.hh.ru/vacancies'\n",
    "    }\n",
    "\n",
    "    response = requests.get(url, headers=headers)\n",
    "\n",
    "    return response.json()\n",
    "# Пример использования\n",
    "vacancy_ids = df['ID']\n",
    "descriptions = []\n",
    "key_skills = []\n",
    "for i in range(len(df)):\n",
    " vacancy_data = get_vacancy_details(vacancy_ids[i])\n",
    " if vacancy_data:\n",
    "    descriptions.append(vacancy_data.get('description'))\n",
    "    key_skills.append(vacancy_data.get('key_skills'))\n",
    "true_skills = [item for item in key_skills if item]\n",
    "index_skills = [i for i in range(len(key_skills)) if key_skills[i]]\n",
    "print(len(true_skills))\n",
    "print(index_skills)\n",
    "\n"
   ]
  },
  {
   "cell_type": "code",
   "execution_count": null,
   "id": "d72896c3",
   "metadata": {},
   "outputs": [],
   "source": [
    "df_with_skills = df.loc[index_skills, :]\n",
    "df_with_skills.to_csv('data_with_key_skills.csv', index=False)\n",
    "data = pd.read_csv('data_with_key_skills.csv')\n",
    "skills = [item for subset in true_skills for item in subset]\n",
    "skills = [skills[i]['name'] for i in range(len(skills))]\n",
    "unique_skills = np.unique(skills)\n",
    "skills_count = pd.Series(skills).value_counts()\n",
    "skills_count"
   ]
  }
 ],
 "metadata": {
  "kernelspec": {
   "display_name": "moonshot",
   "language": "python",
   "name": "moonshot"
  },
  "language_info": {
   "codemirror_mode": {
    "name": "ipython",
    "version": 3
   },
   "file_extension": ".py",
   "mimetype": "text/x-python",
   "name": "python",
   "nbconvert_exporter": "python",
   "pygments_lexer": "ipython3",
   "version": "3.10.15"
  }
 },
 "nbformat": 4,
 "nbformat_minor": 5
}
